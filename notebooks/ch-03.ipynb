{
 "cells": [
  {
   "cell_type": "markdown",
   "metadata": {},
   "source": [
    "# Chapter 3. Algorithm Analysis"
   ]
  },
  {
   "cell_type": "markdown",
   "metadata": {},
   "source": [
    "\"Simply put, a **data structure** is a systematic way of organizing and accessing data, and an **algorithm** is a step-by-step procedure for performing some task in a finite amount of time.\" (110)"
   ]
  },
  {
   "cell_type": "markdown",
   "metadata": {},
   "source": [
    "## 3.1. Experimental studies"
   ]
  },
  {
   "cell_type": "markdown",
   "metadata": {},
   "source": [
    "You can measure the performance of an algorithm by seeing how long it takes to run:"
   ]
  },
  {
   "cell_type": "code",
   "execution_count": 1,
   "metadata": {},
   "outputs": [
    {
     "data": {
      "text/plain": [
       "8.392333984375e-05"
      ]
     },
     "execution_count": 1,
     "metadata": {},
     "output_type": "execute_result"
    }
   ],
   "source": [
    "from time import time\n",
    "\n",
    "def function_to_benchmark(size):\n",
    "    \"-\".join(str(n) for n in range(size))\n",
    "\n",
    "start_time = time()\n",
    "function_to_benchmark(100)\n",
    "end_time = time()\n",
    "\n",
    "end_time - start_time"
   ]
  },
  {
   "cell_type": "markdown",
   "metadata": {},
   "source": [
    "The above isn't a brilliant measure of the performance of an algorithm though, because other programs might use up CPU cycles between its start and end. You'd get a better measurement by looking at the number of CPU cycles used by the algorithm.\n",
    "\n",
    "Python has a nice module called `timeit` to measure benchmark algorithms by looking at how many CPU cycles they use, and can even repeat the test a given number of times to help eliminate factors like small variances in the CPU's performance."
   ]
  },
  {
   "cell_type": "code",
   "execution_count": 2,
   "metadata": {},
   "outputs": [
    {
     "data": {
      "text/plain": [
       "5.3254700000016084e-05"
      ]
     },
     "execution_count": 2,
     "metadata": {},
     "output_type": "execute_result"
    }
   ],
   "source": [
    "from timeit import timeit\n",
    "\n",
    "timeit(lambda: function_to_benchmark(100), number=10) / 10"
   ]
  },
  {
   "cell_type": "markdown",
   "metadata": {},
   "source": [
    "A nice way to go about measuring the performance of an algorithm is to run it with different input sizes and visualise the results with a scatterplot. Input size on the x axis and running time on the y axis."
   ]
  },
  {
   "cell_type": "code",
   "execution_count": 3,
   "metadata": {},
   "outputs": [],
   "source": [
    "# https://nickmccullum.com/python-visualization/scatterplot/\n",
    "\n",
    "import matplotlib.pyplot as plt\n",
    "\n",
    "%matplotlib inline\n",
    "\n",
    "from IPython.display import set_matplotlib_formats\n",
    "\n",
    "set_matplotlib_formats('retina')"
   ]
  },
  {
   "cell_type": "code",
   "execution_count": 4,
   "metadata": {},
   "outputs": [
    {
     "data": {
      "text/plain": [
       "<matplotlib.collections.PathCollection at 0x11bd2e850>"
      ]
     },
     "execution_count": 4,
     "metadata": {},
     "output_type": "execute_result"
    },
    {
     "data": {
      "image/png": "[encoded data removed]",
      "text/plain": [
       "<Figure size 432x288 with 1 Axes>"
      ]
     },
     "metadata": {
      "image/png": {
       "height": 272,
       "width": 385
      },
      "needs_background": "light"
     },
     "output_type": "display_data"
    }
   ],
   "source": [
    "input_sizes = [100, 150, 200]\n",
    "\n",
    "durations = [timeit(lambda: function_to_benchmark(n), number=15) / 15 for n in input_sizes]\n",
    "\n",
    "plt.xlabel('input size')\n",
    "plt.ylabel('time taken')\n",
    "plt.scatter(input_sizes, durations)"
   ]
  },
  {
   "cell_type": "markdown",
   "metadata": {},
   "source": [
    "#### Challenges of experimental analysis\n",
    "\n",
    "The most serious drawback of experimental analysis is that you need to fully implement an algorithm to accurately test its performance. \"At early stages of design, when considering a choice of data structures or algorithms, it would be foolish to spend a significant amount of time implementing an approach that could easily be deemed inferior by a higher-level analysis\" (112)."
   ]
  },
  {
   "cell_type": "markdown",
   "metadata": {},
   "source": [
    "### 3.1.1. Moving beyond experimental analysis\n",
    "\n",
    ">Our goal is to develop an approach to analyzing the efficiency of algorithms that:\n",
    ">1. Allows us to evaluate the relative efficiency of any two algorithms in a way that is **independent of the hardware and software environment.**\n",
    ">2. Is performed by studying a high-level description of the algorithm **without need for implementation.**\n",
    ">3. Takes into account **all possible inputs.** (113)\n",
    "\n",
    "#### Counting primitive operations\n",
    "\n",
    "To construct a high-level description of an algorithm, it should be broken down into _primitive operations_ such as...\n",
    "\n",
    "1. Assigning an identifier to an object\n",
    "2. Determining the object associated with an identifier\n",
    "3. Performing an arithmetic operation (for example, adding two numbers)\n",
    "4. Comparing two numbers\n",
    "5. Accessing a single element of a Python `list` by index\n",
    "6. Calling a function (excluding operations executed within the function)\n",
    "7. Returning from a function\n",
    "\n",
    "\"Formally, a primitive operation corresponds to a low-level instruction with an execution time that is constant\" (113). In practice, many of these operations are translated into a small number of hardware instructions but for simplicity we'll assume each _primitive operation_ takes the same length of time and use the count of operations as _t_ to measure the running time of the algorithm.\n",
    "\n",
    "To capture the **order of growth** of an algorithm’s running time, each algorithm can be assigned a function _f(n)_ which characterises the number of primitive operations performed as a function of the input size _n_. There are seven common functions for this characterisation:\n",
    "\n",
    "1. Constant\n",
    "2. Logarithm\n",
    "3. Linear\n",
    "4. _N_-Log-_N_\n",
    "5. Quadratic\n",
    "6. Cubic (and other polynomials)\n",
    "7. Exponential\n",
    "\n",
    "A note: different _kinds_ of input (of the same size) might perform differently. To keep things simple, we assume worst-case input. \"Making the standard of success for an algorithm to perform well in the worst case necessarily requires that it will do well on every input\" (114)."
   ]
  },
  {
   "cell_type": "markdown",
   "metadata": {},
   "source": [
    "## 3.2. The seven order of growth functions"
   ]
  },
  {
   "cell_type": "markdown",
   "metadata": {},
   "source": [
    "### Constant\n",
    "\n",
    "_f(n)_ = _c_\n",
    "\n",
    "It doesn't matter how big the input is, the output is constant."
   ]
  },
  {
   "cell_type": "code",
   "execution_count": 5,
   "metadata": {},
   "outputs": [
    {
     "data": {
      "text/plain": [
       "[<matplotlib.lines.Line2D at 0x11be282b0>]"
      ]
     },
     "execution_count": 5,
     "metadata": {},
     "output_type": "execute_result"
    },
    {
     "data": {
      "image/png": "[encoded data removed]",
      "text/plain": [
       "<Figure size 432x288 with 1 Axes>"
      ]
     },
     "metadata": {
      "image/png": {
       "height": 248,
       "width": 378
      },
      "needs_background": "light"
     },
     "output_type": "display_data"
    }
   ],
   "source": [
    "plt.plot([5, 10, 15], [10, 10, 10])"
   ]
  },
  {
   "cell_type": "markdown",
   "metadata": {},
   "source": [
    "### Logarithm\n",
    "\n",
    "$f(n)$ = log$_{b}n$, for some constant $b$ > 1.\n",
    "\n",
    "**What is log?**\n",
    "\n",
    "$x$ = log$_{b}n$ if and only if $b^{x}$ = $n$\n",
    "\n",
    "$b$ is the _base_ of the logarithm, and by definition log$_{b}1 = 0$. The most common base in computer science is 2 and it's _so_ common that it's typically omitted when it is 2. \n",
    "\n",
    "In other words: log$n =$ log$_{2}n$ \n",
    "\n",
    "A _good enough_ approximation can be calculated thus:"
   ]
  },
  {
   "cell_type": "code",
   "execution_count": 6,
   "metadata": {},
   "outputs": [
    {
     "data": {
      "text/plain": [
       "[<matplotlib.lines.Line2D at 0x11be86160>]"
      ]
     },
     "execution_count": 6,
     "metadata": {},
     "output_type": "execute_result"
    },
    {
     "data": {
      "image/png": "[encoded data removed]",
      "text/plain": [
       "<Figure size 432x288 with 1 Axes>"
      ]
     },
     "metadata": {
      "image/png": {
       "height": 252,
       "width": 375
      },
      "needs_background": "light"
     },
     "output_type": "display_data"
    }
   ],
   "source": [
    "def approx_log_ceiling(b, n):\n",
    "    \"\"\"returns the smallest integer greater than or equal to log (base b) n\"\"\"\n",
    "    reduced = n\n",
    "    reductions = 0\n",
    "    while reduced > 1:\n",
    "        reduced = reduced / b\n",
    "        reductions += 1\n",
    "        \n",
    "    return reductions\n",
    "\n",
    "input = range(25)\n",
    "\n",
    "output = [approx_log_ceiling(2, x) for x in input]\n",
    "\n",
    "plt.axis([0, 25, 0, 25])\n",
    "plt.plot(input, output)"
   ]
  }
 ],
 "metadata": {
  "kernelspec": {
   "display_name": "Python 3",
   "language": "python",
   "name": "python3"
  },
  "language_info": {
   "codemirror_mode": {
    "name": "ipython",
    "version": 3
   },
   "file_extension": ".py",
   "mimetype": "text/x-python",
   "name": "python",
   "nbconvert_exporter": "python",
   "pygments_lexer": "ipython3",
   "version": "3.9.1"
  }
 },
 "nbformat": 4,
 "nbformat_minor": 4
}
